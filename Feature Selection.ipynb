{
  "cells": [
    {
      "cell_type": "code",
      "execution_count": 1,
      "id": "dd36c92e-ffba-4fa5-b265-a28204729ac6",
      "metadata": {
        "id": "dd36c92e-ffba-4fa5-b265-a28204729ac6",
        "outputId": "2b499259-e4bd-4ae9-b3e2-5a8c7e7008b3",
        "colab": {
          "base_uri": "https://localhost:8080/"
        }
      },
      "outputs": [
        {
          "output_type": "stream",
          "name": "stdout",
          "text": [
            "hello world\n"
          ]
        }
      ],
      "source": [
        "print('hello world')"
      ]
    },
    {
      "cell_type": "code",
      "source": [],
      "metadata": {
        "id": "sfp92G7bybjb"
      },
      "id": "sfp92G7bybjb",
      "execution_count": null,
      "outputs": []
    }
  ],
  "metadata": {
    "kernelspec": {
      "display_name": "Python 3 (ipykernel)",
      "language": "python",
      "name": "python3"
    },
    "language_info": {
      "codemirror_mode": {
        "name": "ipython",
        "version": 3
      },
      "file_extension": ".py",
      "mimetype": "text/x-python",
      "name": "python",
      "nbconvert_exporter": "python",
      "pygments_lexer": "ipython3",
      "version": "3.11.7"
    },
    "colab": {
      "provenance": []
    }
  },
  "nbformat": 4,
  "nbformat_minor": 5
}