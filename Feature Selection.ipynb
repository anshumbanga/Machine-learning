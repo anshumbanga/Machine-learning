{
  "cells": [
    {
      "cell_type": "markdown",
      "source": [
        "###  **Feature Selection – Filter Methods Only**\n",
        "\n",
        "**Definition:**\n",
        "Filter methods evaluate each feature **independently of the model** using statistical tests and rank them based on their relevance to the target.\n",
        "\n",
        "---\n",
        "\n",
        "### **Common Filter Techniques:**\n",
        "\n",
        "1. **Correlation Coefficient**\n",
        "\n",
        "   * Removes features highly correlated with each other.\n",
        "   * Goal: Keep features with high correlation to target, low with each other.\n",
        "\n",
        "2. **Chi-Square Test (χ²)**\n",
        "\n",
        "   * Used for **categorical features**.\n",
        "   * Measures the dependency between feature and target.\n",
        "\n",
        "3. **ANOVA (F-test)**\n",
        "\n",
        "   * Used for **continuous features** and a **categorical target**.\n",
        "   * Measures variance between groups vs within groups.\n",
        "\n",
        "4. **Mutual Information**\n",
        "\n",
        "   * Measures how much information a feature gives about the target.\n",
        "   * Works with both categorical and continuous variables.\n",
        "\n",
        "---\n",
        "\n",
        "### **Why Use Filter Methods:**\n",
        "\n",
        "* Fast and scalable to large datasets.\n",
        "* Model-independent.\n",
        "* Useful as a **preprocessing step** before applying wrappers or embedded methods."
      ],
      "metadata": {
        "id": "-umpU6FQ37ix"
      },
      "id": "-umpU6FQ37ix"
    },
    {
      "cell_type": "code",
      "source": [
        "import pandas as pd\n",
        "import numpy as np\n",
        "import matplotlib.pyplot as plt\n",
        "import seaborn as sns\n",
        "\n",
        "import warnings\n",
        "warnings.filterwarnings('ignore')"
      ],
      "metadata": {
        "id": "sfp92G7bybjb"
      },
      "id": "sfp92G7bybjb",
      "execution_count": 2,
      "outputs": []
    },
    {
      "cell_type": "code",
      "source": [
        "df = pd.read_csv('Human Activity Recognition.csv',nrows=None).drop('subject',axis=1)"
      ],
      "metadata": {
        "id": "gwNeJwEM4ue7"
      },
      "id": "gwNeJwEM4ue7",
      "execution_count": 16,
      "outputs": []
    },
    {
      "cell_type": "code",
      "source": [],
      "metadata": {
        "id": "myUZaqXY4uhq"
      },
      "id": "myUZaqXY4uhq",
      "execution_count": 25,
      "outputs": []
    },
    {
      "cell_type": "code",
      "source": [],
      "metadata": {
        "id": "-mOhrucH4ulA"
      },
      "id": "-mOhrucH4ulA",
      "execution_count": 25,
      "outputs": []
    },
    {
      "cell_type": "code",
      "source": [],
      "metadata": {
        "id": "q2NosNwJ4uv5"
      },
      "id": "q2NosNwJ4uv5",
      "execution_count": 25,
      "outputs": []
    },
    {
      "cell_type": "code",
      "source": [],
      "metadata": {
        "id": "ZyMArFwa4uzP"
      },
      "id": "ZyMArFwa4uzP",
      "execution_count": 25,
      "outputs": []
    },
    {
      "cell_type": "code",
      "source": [],
      "metadata": {
        "id": "4tXy4Dea4u2t"
      },
      "id": "4tXy4Dea4u2t",
      "execution_count": 25,
      "outputs": []
    },
    {
      "cell_type": "code",
      "source": [],
      "metadata": {
        "id": "xmUVDrag8UG9"
      },
      "id": "xmUVDrag8UG9",
      "execution_count": null,
      "outputs": []
    }
  ],
  "metadata": {
    "kernelspec": {
      "display_name": "Python 3 (ipykernel)",
      "language": "python",
      "name": "python3"
    },
    "language_info": {
      "codemirror_mode": {
        "name": "ipython",
        "version": 3
      },
      "file_extension": ".py",
      "mimetype": "text/x-python",
      "name": "python",
      "nbconvert_exporter": "python",
      "pygments_lexer": "ipython3",
      "version": "3.11.7"
    },
    "colab": {
      "provenance": []
    }
  },
  "nbformat": 4,
  "nbformat_minor": 5
}